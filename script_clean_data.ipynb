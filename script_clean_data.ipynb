{
 "cells": [
  {
   "cell_type": "code",
   "execution_count": 1,
   "id": "b05c9d95",
   "metadata": {},
   "outputs": [],
   "source": [
    "import pandas as pd"
   ]
  },
  {
   "cell_type": "code",
   "execution_count": 2,
   "id": "f82c0678",
   "metadata": {},
   "outputs": [],
   "source": [
    "# Load the dataset\n",
    "file_path = r\"C:\\Users\\const\\OneDrive\\Desktop\\MyProjects\\Samaritan\\kaggle\\hosp_staffing\\hosp.csv\"\n",
    "data = pd.read_csv(file_path, delimiter=';')"
   ]
  },
  {
   "cell_type": "code",
   "execution_count": 3,
   "id": "4430f982",
   "metadata": {},
   "outputs": [],
   "source": [
    "# Clean column names\n",
    "data.columns = (\n",
    "    data.columns\n",
    "    .str.strip()\n",
    "    .str.lower()\n",
    "    .str.replace(' ', '_')\n",
    "    .str.replace(r'[^\\w]', '', regex=True)\n",
    ")"
   ]
  },
  {
   "cell_type": "code",
   "execution_count": 4,
   "id": "d9cea53a",
   "metadata": {},
   "outputs": [],
   "source": [
    "# Convert date columns to datetime\n",
    "data['begin_date'] = pd.to_datetime(data['begin_date'], errors='coerce')\n",
    "data['end_date'] = pd.to_datetime(data['end_date'], errors='coerce')"
   ]
  },
  {
   "cell_type": "code",
   "execution_count": 5,
   "id": "ce32feab",
   "metadata": {},
   "outputs": [],
   "source": [
    "# Remove duplicates\n",
    "data = data.drop_duplicates()"
   ]
  },
  {
   "cell_type": "code",
   "execution_count": 6,
   "id": "6bfedf61",
   "metadata": {},
   "outputs": [
    {
     "data": {
      "text/html": [
       "<div>\n",
       "<style scoped>\n",
       "    .dataframe tbody tr th:only-of-type {\n",
       "        vertical-align: middle;\n",
       "    }\n",
       "\n",
       "    .dataframe tbody tr th {\n",
       "        vertical-align: top;\n",
       "    }\n",
       "\n",
       "    .dataframe thead th {\n",
       "        text-align: right;\n",
       "    }\n",
       "</style>\n",
       "<table border=\"1\" class=\"dataframe\">\n",
       "  <thead>\n",
       "    <tr style=\"text-align: right;\">\n",
       "      <th></th>\n",
       "      <th>year</th>\n",
       "      <th>facility_number</th>\n",
       "      <th>facility_name</th>\n",
       "      <th>begin_date</th>\n",
       "      <th>end_date</th>\n",
       "      <th>county_name</th>\n",
       "      <th>type_of_control</th>\n",
       "      <th>hours_type</th>\n",
       "      <th>productive_hours</th>\n",
       "      <th>productive_hours_per_adjusted_patient_day</th>\n",
       "    </tr>\n",
       "  </thead>\n",
       "  <tbody>\n",
       "    <tr>\n",
       "      <th>0</th>\n",
       "      <td>2009</td>\n",
       "      <td>106010735.0</td>\n",
       "      <td>ALAMEDA HOSPITAL</td>\n",
       "      <td>2008-07-01</td>\n",
       "      <td>2009-06-30</td>\n",
       "      <td>Alameda</td>\n",
       "      <td>District</td>\n",
       "      <td>Management &amp; Supervision</td>\n",
       "      <td>63558</td>\n",
       "      <td>1.17</td>\n",
       "    </tr>\n",
       "    <tr>\n",
       "      <th>1</th>\n",
       "      <td>2009</td>\n",
       "      <td>106010735.0</td>\n",
       "      <td>ALAMEDA HOSPITAL</td>\n",
       "      <td>2008-07-01</td>\n",
       "      <td>2009-06-30</td>\n",
       "      <td>Alameda</td>\n",
       "      <td>District</td>\n",
       "      <td>Technician &amp; Specialist</td>\n",
       "      <td>163706</td>\n",
       "      <td>3.02</td>\n",
       "    </tr>\n",
       "    <tr>\n",
       "      <th>2</th>\n",
       "      <td>2009</td>\n",
       "      <td>106010735.0</td>\n",
       "      <td>ALAMEDA HOSPITAL</td>\n",
       "      <td>2008-07-01</td>\n",
       "      <td>2009-06-30</td>\n",
       "      <td>Alameda</td>\n",
       "      <td>District</td>\n",
       "      <td>Registered Nurse</td>\n",
       "      <td>180034</td>\n",
       "      <td>3.32</td>\n",
       "    </tr>\n",
       "    <tr>\n",
       "      <th>3</th>\n",
       "      <td>2009</td>\n",
       "      <td>106010735.0</td>\n",
       "      <td>ALAMEDA HOSPITAL</td>\n",
       "      <td>2008-07-01</td>\n",
       "      <td>2009-06-30</td>\n",
       "      <td>Alameda</td>\n",
       "      <td>District</td>\n",
       "      <td>Licensed Vocational Nurse</td>\n",
       "      <td>22323</td>\n",
       "      <td>0.41</td>\n",
       "    </tr>\n",
       "    <tr>\n",
       "      <th>4</th>\n",
       "      <td>2009</td>\n",
       "      <td>106010735.0</td>\n",
       "      <td>ALAMEDA HOSPITAL</td>\n",
       "      <td>2008-07-01</td>\n",
       "      <td>2009-06-30</td>\n",
       "      <td>Alameda</td>\n",
       "      <td>District</td>\n",
       "      <td>Aides &amp; Orderlies</td>\n",
       "      <td>97205</td>\n",
       "      <td>1.79</td>\n",
       "    </tr>\n",
       "  </tbody>\n",
       "</table>\n",
       "</div>"
      ],
      "text/plain": [
       "   year  facility_number     facility_name begin_date   end_date county_name  \\\n",
       "0  2009      106010735.0  ALAMEDA HOSPITAL 2008-07-01 2009-06-30     Alameda   \n",
       "1  2009      106010735.0  ALAMEDA HOSPITAL 2008-07-01 2009-06-30     Alameda   \n",
       "2  2009      106010735.0  ALAMEDA HOSPITAL 2008-07-01 2009-06-30     Alameda   \n",
       "3  2009      106010735.0  ALAMEDA HOSPITAL 2008-07-01 2009-06-30     Alameda   \n",
       "4  2009      106010735.0  ALAMEDA HOSPITAL 2008-07-01 2009-06-30     Alameda   \n",
       "\n",
       "  type_of_control                 hours_type  productive_hours  \\\n",
       "0        District   Management & Supervision             63558   \n",
       "1        District    Technician & Specialist            163706   \n",
       "2        District           Registered Nurse            180034   \n",
       "3        District  Licensed Vocational Nurse             22323   \n",
       "4        District          Aides & Orderlies             97205   \n",
       "\n",
       "   productive_hours_per_adjusted_patient_day  \n",
       "0                                       1.17  \n",
       "1                                       3.02  \n",
       "2                                       3.32  \n",
       "3                                       0.41  \n",
       "4                                       1.79  "
      ]
     },
     "execution_count": 6,
     "metadata": {},
     "output_type": "execute_result"
    }
   ],
   "source": [
    "data.head()"
   ]
  },
  {
   "cell_type": "code",
   "execution_count": 7,
   "id": "caf61152",
   "metadata": {},
   "outputs": [
    {
     "name": "stdout",
     "output_type": "stream",
     "text": [
      "<class 'pandas.core.frame.DataFrame'>\n",
      "RangeIndex: 37604 entries, 0 to 37603\n",
      "Data columns (total 10 columns):\n",
      " #   Column                                     Non-Null Count  Dtype         \n",
      "---  ------                                     --------------  -----         \n",
      " 0   year                                       37604 non-null  int64         \n",
      " 1   facility_number                            37519 non-null  float64       \n",
      " 2   facility_name                              37519 non-null  object        \n",
      " 3   begin_date                                 37519 non-null  datetime64[ns]\n",
      " 4   end_date                                   37519 non-null  datetime64[ns]\n",
      " 5   county_name                                37604 non-null  object        \n",
      " 6   type_of_control                            37519 non-null  object        \n",
      " 7   hours_type                                 37604 non-null  object        \n",
      " 8   productive_hours                           37604 non-null  int64         \n",
      " 9   productive_hours_per_adjusted_patient_day  37417 non-null  float64       \n",
      "dtypes: datetime64[ns](2), float64(2), int64(2), object(4)\n",
      "memory usage: 2.9+ MB\n"
     ]
    }
   ],
   "source": [
    "data.info()"
   ]
  },
  {
   "cell_type": "code",
   "execution_count": 8,
   "id": "76fa9333",
   "metadata": {},
   "outputs": [
    {
     "data": {
      "text/html": [
       "<div>\n",
       "<style scoped>\n",
       "    .dataframe tbody tr th:only-of-type {\n",
       "        vertical-align: middle;\n",
       "    }\n",
       "\n",
       "    .dataframe tbody tr th {\n",
       "        vertical-align: top;\n",
       "    }\n",
       "\n",
       "    .dataframe thead th {\n",
       "        text-align: right;\n",
       "    }\n",
       "</style>\n",
       "<table border=\"1\" class=\"dataframe\">\n",
       "  <thead>\n",
       "    <tr style=\"text-align: right;\">\n",
       "      <th></th>\n",
       "      <th>year</th>\n",
       "      <th>facility_number</th>\n",
       "      <th>begin_date</th>\n",
       "      <th>end_date</th>\n",
       "      <th>productive_hours</th>\n",
       "      <th>productive_hours_per_adjusted_patient_day</th>\n",
       "    </tr>\n",
       "  </thead>\n",
       "  <tbody>\n",
       "    <tr>\n",
       "      <th>count</th>\n",
       "      <td>37604.000000</td>\n",
       "      <td>3.751900e+04</td>\n",
       "      <td>37519</td>\n",
       "      <td>37519</td>\n",
       "      <td>3.760400e+04</td>\n",
       "      <td>37417.000000</td>\n",
       "    </tr>\n",
       "    <tr>\n",
       "      <th>mean</th>\n",
       "      <td>2010.987794</td>\n",
       "      <td>1.062795e+08</td>\n",
       "      <td>2010-10-03 10:20:29.904848384</td>\n",
       "      <td>2011-09-30 08:59:35.532397056</td>\n",
       "      <td>4.209184e+05</td>\n",
       "      <td>3.138249</td>\n",
       "    </tr>\n",
       "    <tr>\n",
       "      <th>min</th>\n",
       "      <td>2009.000000</td>\n",
       "      <td>1.060107e+08</td>\n",
       "      <td>2008-01-01 00:00:00</td>\n",
       "      <td>2009-01-15 00:00:00</td>\n",
       "      <td>0.000000e+00</td>\n",
       "      <td>0.000000</td>\n",
       "    </tr>\n",
       "    <tr>\n",
       "      <th>25%</th>\n",
       "      <td>2010.000000</td>\n",
       "      <td>1.061903e+08</td>\n",
       "      <td>2009-07-01 00:00:00</td>\n",
       "      <td>2010-06-30 00:00:00</td>\n",
       "      <td>7.827500e+03</td>\n",
       "      <td>0.240000</td>\n",
       "    </tr>\n",
       "    <tr>\n",
       "      <th>50%</th>\n",
       "      <td>2011.000000</td>\n",
       "      <td>1.063011e+08</td>\n",
       "      <td>2010-10-01 00:00:00</td>\n",
       "      <td>2011-09-30 00:00:00</td>\n",
       "      <td>6.313750e+04</td>\n",
       "      <td>1.750000</td>\n",
       "    </tr>\n",
       "    <tr>\n",
       "      <th>75%</th>\n",
       "      <td>2012.000000</td>\n",
       "      <td>1.063713e+08</td>\n",
       "      <td>2012-01-01 00:00:00</td>\n",
       "      <td>2012-12-31 00:00:00</td>\n",
       "      <td>2.220848e+05</td>\n",
       "      <td>4.420000</td>\n",
       "    </tr>\n",
       "    <tr>\n",
       "      <th>max</th>\n",
       "      <td>2013.000000</td>\n",
       "      <td>1.065810e+08</td>\n",
       "      <td>2013-10-14 00:00:00</td>\n",
       "      <td>2013-12-31 00:00:00</td>\n",
       "      <td>2.534190e+08</td>\n",
       "      <td>157.770000</td>\n",
       "    </tr>\n",
       "    <tr>\n",
       "      <th>std</th>\n",
       "      <td>1.412740</td>\n",
       "      <td>1.373940e+05</td>\n",
       "      <td>NaN</td>\n",
       "      <td>NaN</td>\n",
       "      <td>5.593442e+06</td>\n",
       "      <td>4.334235</td>\n",
       "    </tr>\n",
       "  </tbody>\n",
       "</table>\n",
       "</div>"
      ],
      "text/plain": [
       "               year  facility_number                     begin_date  \\\n",
       "count  37604.000000     3.751900e+04                          37519   \n",
       "mean    2010.987794     1.062795e+08  2010-10-03 10:20:29.904848384   \n",
       "min     2009.000000     1.060107e+08            2008-01-01 00:00:00   \n",
       "25%     2010.000000     1.061903e+08            2009-07-01 00:00:00   \n",
       "50%     2011.000000     1.063011e+08            2010-10-01 00:00:00   \n",
       "75%     2012.000000     1.063713e+08            2012-01-01 00:00:00   \n",
       "max     2013.000000     1.065810e+08            2013-10-14 00:00:00   \n",
       "std        1.412740     1.373940e+05                            NaN   \n",
       "\n",
       "                            end_date  productive_hours  \\\n",
       "count                          37519      3.760400e+04   \n",
       "mean   2011-09-30 08:59:35.532397056      4.209184e+05   \n",
       "min              2009-01-15 00:00:00      0.000000e+00   \n",
       "25%              2010-06-30 00:00:00      7.827500e+03   \n",
       "50%              2011-09-30 00:00:00      6.313750e+04   \n",
       "75%              2012-12-31 00:00:00      2.220848e+05   \n",
       "max              2013-12-31 00:00:00      2.534190e+08   \n",
       "std                              NaN      5.593442e+06   \n",
       "\n",
       "       productive_hours_per_adjusted_patient_day  \n",
       "count                               37417.000000  \n",
       "mean                                    3.138249  \n",
       "min                                     0.000000  \n",
       "25%                                     0.240000  \n",
       "50%                                     1.750000  \n",
       "75%                                     4.420000  \n",
       "max                                   157.770000  \n",
       "std                                     4.334235  "
      ]
     },
     "execution_count": 8,
     "metadata": {},
     "output_type": "execute_result"
    }
   ],
   "source": [
    "data.describe()"
   ]
  },
  {
   "cell_type": "code",
   "execution_count": 9,
   "id": "6f39a9df",
   "metadata": {},
   "outputs": [
    {
     "data": {
      "text/plain": [
       "year                                           0\n",
       "facility_number                               85\n",
       "facility_name                                 85\n",
       "begin_date                                    85\n",
       "end_date                                      85\n",
       "county_name                                    0\n",
       "type_of_control                               85\n",
       "hours_type                                     0\n",
       "productive_hours                               0\n",
       "productive_hours_per_adjusted_patient_day    187\n",
       "dtype: int64"
      ]
     },
     "execution_count": 9,
     "metadata": {},
     "output_type": "execute_result"
    }
   ],
   "source": [
    "# Check for missing values in the dataset\n",
    "missing_values_before = data.isnull().sum()\n",
    "\n",
    "# Display the missing values for each column\n",
    "missing_values_before"
   ]
  },
  {
   "cell_type": "code",
   "execution_count": 10,
   "id": "9903ad43",
   "metadata": {},
   "outputs": [
    {
     "data": {
      "text/html": [
       "<div>\n",
       "<style scoped>\n",
       "    .dataframe tbody tr th:only-of-type {\n",
       "        vertical-align: middle;\n",
       "    }\n",
       "\n",
       "    .dataframe tbody tr th {\n",
       "        vertical-align: top;\n",
       "    }\n",
       "\n",
       "    .dataframe thead th {\n",
       "        text-align: right;\n",
       "    }\n",
       "</style>\n",
       "<table border=\"1\" class=\"dataframe\">\n",
       "  <thead>\n",
       "    <tr style=\"text-align: right;\">\n",
       "      <th></th>\n",
       "      <th>year</th>\n",
       "      <th>facility_number</th>\n",
       "      <th>facility_name</th>\n",
       "      <th>begin_date</th>\n",
       "      <th>end_date</th>\n",
       "      <th>county_name</th>\n",
       "      <th>type_of_control</th>\n",
       "      <th>hours_type</th>\n",
       "      <th>productive_hours</th>\n",
       "      <th>productive_hours_per_adjusted_patient_day</th>\n",
       "    </tr>\n",
       "  </thead>\n",
       "  <tbody>\n",
       "    <tr>\n",
       "      <th>211</th>\n",
       "      <td>2010</td>\n",
       "      <td>NaN</td>\n",
       "      <td>NaN</td>\n",
       "      <td>NaT</td>\n",
       "      <td>NaT</td>\n",
       "      <td>Statewide</td>\n",
       "      <td>NaN</td>\n",
       "      <td>Environmental &amp; Food Services</td>\n",
       "      <td>48811411</td>\n",
       "      <td>1.62</td>\n",
       "    </tr>\n",
       "    <tr>\n",
       "      <th>273</th>\n",
       "      <td>2010</td>\n",
       "      <td>NaN</td>\n",
       "      <td>NaN</td>\n",
       "      <td>NaT</td>\n",
       "      <td>NaT</td>\n",
       "      <td>Statewide</td>\n",
       "      <td>NaN</td>\n",
       "      <td>Other</td>\n",
       "      <td>79203513</td>\n",
       "      <td>2.62</td>\n",
       "    </tr>\n",
       "    <tr>\n",
       "      <th>291</th>\n",
       "      <td>2009</td>\n",
       "      <td>106015000.0</td>\n",
       "      <td>KAISER FOUNDATION NORTHERN REGION</td>\n",
       "      <td>2009-01-01</td>\n",
       "      <td>2009-12-31</td>\n",
       "      <td>Alameda</td>\n",
       "      <td>Non-Profit</td>\n",
       "      <td>Management &amp; Supervision</td>\n",
       "      <td>0</td>\n",
       "      <td>NaN</td>\n",
       "    </tr>\n",
       "    <tr>\n",
       "      <th>292</th>\n",
       "      <td>2009</td>\n",
       "      <td>106015000.0</td>\n",
       "      <td>KAISER FOUNDATION NORTHERN REGION</td>\n",
       "      <td>2009-01-01</td>\n",
       "      <td>2009-12-31</td>\n",
       "      <td>Alameda</td>\n",
       "      <td>Non-Profit</td>\n",
       "      <td>Technician &amp; Specialist</td>\n",
       "      <td>0</td>\n",
       "      <td>NaN</td>\n",
       "    </tr>\n",
       "    <tr>\n",
       "      <th>293</th>\n",
       "      <td>2009</td>\n",
       "      <td>106015000.0</td>\n",
       "      <td>KAISER FOUNDATION NORTHERN REGION</td>\n",
       "      <td>2009-01-01</td>\n",
       "      <td>2009-12-31</td>\n",
       "      <td>Alameda</td>\n",
       "      <td>Non-Profit</td>\n",
       "      <td>Registered Nurse</td>\n",
       "      <td>0</td>\n",
       "      <td>NaN</td>\n",
       "    </tr>\n",
       "  </tbody>\n",
       "</table>\n",
       "</div>"
      ],
      "text/plain": [
       "     year  facility_number                      facility_name begin_date  \\\n",
       "211  2010              NaN                                NaN        NaT   \n",
       "273  2010              NaN                                NaN        NaT   \n",
       "291  2009      106015000.0  KAISER FOUNDATION NORTHERN REGION 2009-01-01   \n",
       "292  2009      106015000.0  KAISER FOUNDATION NORTHERN REGION 2009-01-01   \n",
       "293  2009      106015000.0  KAISER FOUNDATION NORTHERN REGION 2009-01-01   \n",
       "\n",
       "      end_date county_name type_of_control                     hours_type  \\\n",
       "211        NaT   Statewide             NaN  Environmental & Food Services   \n",
       "273        NaT   Statewide             NaN                          Other   \n",
       "291 2009-12-31     Alameda      Non-Profit       Management & Supervision   \n",
       "292 2009-12-31     Alameda      Non-Profit        Technician & Specialist   \n",
       "293 2009-12-31     Alameda      Non-Profit               Registered Nurse   \n",
       "\n",
       "     productive_hours  productive_hours_per_adjusted_patient_day  \n",
       "211          48811411                                       1.62  \n",
       "273          79203513                                       2.62  \n",
       "291                 0                                        NaN  \n",
       "292                 0                                        NaN  \n",
       "293                 0                                        NaN  "
      ]
     },
     "execution_count": 10,
     "metadata": {},
     "output_type": "execute_result"
    }
   ],
   "source": [
    "# Filter rows with missing values to inspect them\n",
    "missing_rows = data[data.isnull().any(axis=1)]\n",
    "\n",
    "# Display the first few rows with missing values\n",
    "missing_rows.head()"
   ]
  },
  {
   "cell_type": "markdown",
   "id": "7699ef66",
   "metadata": {},
   "source": [
    "1. Facility Productivity Dashboard"
   ]
  },
  {
   "cell_type": "code",
   "execution_count": 11,
   "id": "515ca302",
   "metadata": {},
   "outputs": [],
   "source": [
    "# Drop rows with missing facility_name or productive_hours\n",
    "data_productivity = data.dropna(subset=['facility_name', 'productive_hours']).copy()\n",
    "\n",
    "# Fill missing values for productive_hours_per_adjusted_patient_day with 0\n",
    "data_productivity.loc[:, 'productive_hours_per_adjusted_patient_day'] = data_productivity['productive_hours_per_adjusted_patient_day'].fillna(0)\n"
   ]
  },
  {
   "cell_type": "markdown",
   "id": "76a24188",
   "metadata": {},
   "source": [
    "2. Staffing Composition by Role"
   ]
  },
  {
   "cell_type": "code",
   "execution_count": 12,
   "id": "404f801d",
   "metadata": {},
   "outputs": [],
   "source": [
    "# Drop rows with missing hours_type or productive_hours\n",
    "data_staffing = data.dropna(subset=['hours_type', 'productive_hours'])\n",
    "\n",
    "# Retain county_name and facility_name NaNs if grouping is not critical\n",
    "# No additional handling needed for non-numeric fields here.\n"
   ]
  },
  {
   "cell_type": "markdown",
   "id": "2b025bf7",
   "metadata": {},
   "source": [
    "3. Yearly Trend Analysis"
   ]
  },
  {
   "cell_type": "code",
   "execution_count": 13,
   "id": "19ea03cb",
   "metadata": {},
   "outputs": [],
   "source": [
    "# Drop rows with missing year or productive_hours\n",
    "data_trend = data.dropna(subset=['year', 'productive_hours'])\n",
    "\n",
    "# Fill NaNs in productive_hours_per_adjusted_patient_day with 0\n",
    "data_trend['productive_hours_per_adjusted_patient_day'] = data_trend['productive_hours_per_adjusted_patient_day'].fillna(0)\n"
   ]
  },
  {
   "cell_type": "markdown",
   "id": "42b05085",
   "metadata": {},
   "source": [
    "4. Operational Risk Dashboard"
   ]
  },
  {
   "cell_type": "code",
   "execution_count": 14,
   "id": "447f64f0",
   "metadata": {},
   "outputs": [],
   "source": [
    "# Retain rows with missing productive_hours_per_adjusted_patient_day for analysis\n",
    "data_risk = data.copy()\n",
    "\n",
    "# Add a flag column to highlight rows with missing values in critical columns\n",
    "data_risk['is_risk'] = data_risk['productive_hours_per_adjusted_patient_day'].isnull()\n"
   ]
  },
  {
   "cell_type": "markdown",
   "id": "06dc00e3",
   "metadata": {},
   "source": [
    "5. Facility Comparison Report"
   ]
  },
  {
   "cell_type": "code",
   "execution_count": 15,
   "id": "04f3b7ac",
   "metadata": {},
   "outputs": [],
   "source": [
    "# Drop rows with missing facility_name, productive_hours, or begin_date\n",
    "data_comparison = data.dropna(subset=['facility_name', 'productive_hours', 'begin_date']).copy()\n",
    "\n",
    "# Fill missing values for productive_hours_per_adjusted_patient_day with 0\n",
    "data_comparison['productive_hours_per_adjusted_patient_day'] = data_comparison['productive_hours_per_adjusted_patient_day'].fillna(0)\n"
   ]
  },
  {
   "cell_type": "code",
   "execution_count": 16,
   "id": "6a01546d",
   "metadata": {},
   "outputs": [
    {
     "name": "stdout",
     "output_type": "stream",
     "text": [
      "Cleaned file saved to: C:\\Users\\const\\OneDrive\\Desktop\\MyProjects\\Samaritan\\kaggle\\hosp_staffing\\hosp_clean.csv\n"
     ]
    }
   ],
   "source": [
    "# Redefine data_comparison in case it's undefined\n",
    "data_comparison = data.dropna(subset=['facility_name', 'productive_hours', 'begin_date']).copy()\n",
    "data_comparison['productive_hours_per_adjusted_patient_day'] = data_comparison['productive_hours_per_adjusted_patient_day'].fillna(0)\n",
    "\n",
    "# Save the cleaned DataFrame to a new CSV file\n",
    "output_file_path = r\"C:\\Users\\const\\OneDrive\\Desktop\\MyProjects\\Samaritan\\kaggle\\hosp_staffing\\hosp_clean.csv\"\n",
    "data_comparison.to_csv(output_file_path, index=False)\n",
    "\n",
    "print(f\"Cleaned file saved to: {output_file_path}\")\n"
   ]
  },
  {
   "cell_type": "code",
   "execution_count": null,
   "id": "e3ac8b32",
   "metadata": {},
   "outputs": [],
   "source": []
  },
  {
   "cell_type": "code",
   "execution_count": null,
   "id": "6cd823b4",
   "metadata": {},
   "outputs": [],
   "source": []
  },
  {
   "cell_type": "markdown",
   "id": "3ffee18b",
   "metadata": {},
   "source": [
    "SQL PREPARATION"
   ]
  },
  {
   "cell_type": "code",
   "execution_count": 19,
   "id": "53d1ece1",
   "metadata": {},
   "outputs": [],
   "source": [
    "data_comparison['id'] = range(1, len(data_comparison) + 1)\n"
   ]
  },
  {
   "cell_type": "code",
   "execution_count": 17,
   "id": "129eb042",
   "metadata": {},
   "outputs": [
    {
     "name": "stdout",
     "output_type": "stream",
     "text": [
      "year                                                  int64\n",
      "facility_number                                     float64\n",
      "facility_name                                        object\n",
      "begin_date                                   datetime64[ns]\n",
      "end_date                                     datetime64[ns]\n",
      "county_name                                          object\n",
      "type_of_control                                      object\n",
      "hours_type                                           object\n",
      "productive_hours                                      int64\n",
      "productive_hours_per_adjusted_patient_day           float64\n",
      "dtype: object\n"
     ]
    }
   ],
   "source": [
    "print(data_comparison.dtypes)\n"
   ]
  },
  {
   "cell_type": "code",
   "execution_count": 20,
   "id": "926b126c",
   "metadata": {},
   "outputs": [],
   "source": [
    "# Ensure correct data types and clean for SQL import\n",
    "# Assuming 'data_comparison' is your cleaned DataFrame.\n",
    "\n",
    "# Convert facility_number to an integer type if applicable (handles NaN as NULL-friendly Int64)\n",
    "# This avoids unnecessary decimals in SQL.\n",
    "data_comparison['facility_number'] = data_comparison['facility_number'].astype('Int64')"
   ]
  },
  {
   "cell_type": "code",
   "execution_count": 21,
   "id": "2ea6cb66",
   "metadata": {},
   "outputs": [],
   "source": [
    "# Replace special characters in facility_name to ensure SQL compatibility\n",
    "# Replacing single quotes with double single quotes to prevent SQL errors.\n",
    "data_comparison['facility_name'] = data_comparison['facility_name'].str.replace(\"'\", \"''\")"
   ]
  },
  {
   "cell_type": "code",
   "execution_count": 22,
   "id": "1f0eb7b3",
   "metadata": {},
   "outputs": [],
   "source": [
    "# Format date columns for SQL-friendly format (YYYY-MM-DD)\n",
    "# Ensures that the dates are stored in a readable and consistent SQL format.\n",
    "data_comparison['begin_date'] = data_comparison['begin_date'].dt.strftime('%Y-%m-%d')\n",
    "data_comparison['end_date'] = data_comparison['end_date'].dt.strftime('%Y-%m-%d')"
   ]
  },
  {
   "cell_type": "code",
   "execution_count": 23,
   "id": "e987b715",
   "metadata": {},
   "outputs": [],
   "source": [
    "# Round float values for precision consistency in SQL\n",
    "# Limiting to 2 decimal places for clarity and storage efficiency.\n",
    "data_comparison['productive_hours_per_adjusted_patient_day'] = (\n",
    "    data_comparison['productive_hours_per_adjusted_patient_day'].round(2)\n",
    ")"
   ]
  },
  {
   "cell_type": "code",
   "execution_count": 24,
   "id": "e9fceaea",
   "metadata": {},
   "outputs": [],
   "source": [
    "# Replace NaN values with None (to map to SQL NULL values)\n",
    "# This ensures missing data is properly interpreted as NULL in SQL.\n",
    "data_comparison = data_comparison.where(pd.notnull(data_comparison), None)"
   ]
  },
  {
   "cell_type": "code",
   "execution_count": 26,
   "id": "3bbd271b",
   "metadata": {},
   "outputs": [],
   "source": [
    "# Export cleaned data to a CSV file for SQL import\n",
    "# This CSV can then be uploaded to a database directly or through an ETL tool.\n",
    "csv_output_path = 'hosp_clean_sql.csv'\n",
    "data_comparison.to_csv(csv_output_path, index=False)"
   ]
  },
  {
   "cell_type": "code",
   "execution_count": null,
   "id": "641b27e5",
   "metadata": {},
   "outputs": [],
   "source": []
  }
 ],
 "metadata": {
  "kernelspec": {
   "display_name": "Python 3 (ipykernel)",
   "language": "python",
   "name": "python3"
  },
  "language_info": {
   "codemirror_mode": {
    "name": "ipython",
    "version": 3
   },
   "file_extension": ".py",
   "mimetype": "text/x-python",
   "name": "python",
   "nbconvert_exporter": "python",
   "pygments_lexer": "ipython3",
   "version": "3.11.9"
  }
 },
 "nbformat": 4,
 "nbformat_minor": 5
}
